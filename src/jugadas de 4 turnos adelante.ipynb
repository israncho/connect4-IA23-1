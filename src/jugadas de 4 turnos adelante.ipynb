{
 "cells": [
  {
   "cell_type": "code",
   "execution_count": 1,
   "id": "0d2391f0",
   "metadata": {},
   "outputs": [],
   "source": [
    "import Connect4\n",
    "import copy"
   ]
  },
  {
   "cell_type": "code",
   "execution_count": 2,
   "id": "70ee1679",
   "metadata": {},
   "outputs": [],
   "source": [
    "def accion(val)->list:\n",
    "    if game.finished() == 0 and game.possible_plays() != []:\n",
    "        game.make_play(player1, val)  \n",
    "        return(game)\n",
    "    return(game)    "
   ]
  },
  {
   "cell_type": "code",
   "execution_count": 3,
   "id": "dc73a55c",
   "metadata": {},
   "outputs": [],
   "source": [
    "player1=True\n",
    "estado_inicial=Connect4.connect4()\n",
    "turno1=[]\n",
    "for i in range(0,7):\n",
    "    game =copy.deepcopy(estado_inicial)\n",
    "    if game.finished() == 0 and game.possible_plays() != []:\n",
    "        turno1.append(accion(i))"
   ]
  },
  {
   "cell_type": "code",
   "execution_count": 4,
   "id": "819c692b",
   "metadata": {},
   "outputs": [
    {
     "data": {
      "text/plain": [
       "[[0, 0, 0, 0, 0, 0, 0],\n",
       " [0, 0, 0, 0, 0, 0, 0],\n",
       " [0, 0, 0, 0, 0, 0, 0],\n",
       " [0, 0, 0, 0, 0, 0, 0],\n",
       " [0, 0, 0, 0, 0, 0, 0],\n",
       " [1, 0, 0, 0, 0, 0, 0]]"
      ]
     },
     "execution_count": 4,
     "metadata": {},
     "output_type": "execute_result"
    }
   ],
   "source": [
    "turno1[0].get_board()"
   ]
  },
  {
   "cell_type": "code",
   "execution_count": 5,
   "id": "4c0dc27a",
   "metadata": {},
   "outputs": [],
   "source": [
    "if player1:\n",
    "    player1 = False\n",
    "else:\n",
    "    player1 = True"
   ]
  },
  {
   "cell_type": "code",
   "execution_count": 6,
   "id": "412b0d3f",
   "metadata": {},
   "outputs": [],
   "source": [
    "t2=len(turno1)\n",
    "turno2=[]\n",
    "for i in range(0,t2):\n",
    "    game=copy.deepcopy(turno1[i])\n",
    "    if game.finished() == 0 and game.possible_plays() != []:\n",
    "        for j in range(0,7):\n",
    "            game=copy.deepcopy(turno1[i])\n",
    "            turno2.append(accion(j))"
   ]
  },
  {
   "cell_type": "code",
   "execution_count": 7,
   "id": "2236cd6e",
   "metadata": {},
   "outputs": [
    {
     "data": {
      "text/plain": [
       "[[0, 0, 0, 0, 0, 0, 0],\n",
       " [0, 0, 0, 0, 0, 0, 0],\n",
       " [0, 0, 0, 0, 0, 0, 0],\n",
       " [0, 0, 0, 0, 0, 0, 0],\n",
       " [2, 0, 0, 0, 0, 0, 0],\n",
       " [1, 0, 0, 0, 0, 0, 0]]"
      ]
     },
     "execution_count": 7,
     "metadata": {},
     "output_type": "execute_result"
    }
   ],
   "source": [
    "turno2[0].get_board()"
   ]
  },
  {
   "cell_type": "code",
   "execution_count": 8,
   "id": "b17aa234",
   "metadata": {},
   "outputs": [],
   "source": [
    "if player1:\n",
    "    player1 = False\n",
    "else:\n",
    "    player1 = True"
   ]
  },
  {
   "cell_type": "code",
   "execution_count": 9,
   "id": "617f6950",
   "metadata": {},
   "outputs": [],
   "source": [
    "t2=len(turno2)\n",
    "turno3=[]\n",
    "for i in range(0,t2):\n",
    "    game=copy.deepcopy(turno2[i])\n",
    "    if game.finished() == 0 and game.possible_plays() != []:   \n",
    "        for j in range(0,7):\n",
    "            game=copy.deepcopy(turno2[i])\n",
    "            turno3.append(accion(j))"
   ]
  },
  {
   "cell_type": "code",
   "execution_count": 10,
   "id": "30cfcc7d",
   "metadata": {},
   "outputs": [
    {
     "data": {
      "text/plain": [
       "[[0, 0, 0, 0, 0, 0, 0],\n",
       " [0, 0, 0, 0, 0, 0, 0],\n",
       " [0, 0, 0, 0, 0, 0, 0],\n",
       " [1, 0, 0, 0, 0, 0, 0],\n",
       " [2, 0, 0, 0, 0, 0, 0],\n",
       " [1, 0, 0, 0, 0, 0, 0]]"
      ]
     },
     "execution_count": 10,
     "metadata": {},
     "output_type": "execute_result"
    }
   ],
   "source": [
    "turno3[0].get_board()"
   ]
  },
  {
   "cell_type": "code",
   "execution_count": 11,
   "id": "64934d09",
   "metadata": {},
   "outputs": [],
   "source": [
    "if player1:\n",
    "    player1 = False\n",
    "else:\n",
    "    player1 = True"
   ]
  },
  {
   "cell_type": "code",
   "execution_count": 12,
   "id": "fb269abd",
   "metadata": {},
   "outputs": [],
   "source": [
    "t3=len(turno3)\n",
    "turno4=[]\n",
    "for i in range(0,t3):\n",
    "    game=copy.deepcopy(turno3[i])\n",
    "    if game.finished() == 0 and game.possible_plays() != []:\n",
    "        for j in range(0,7):\n",
    "            game=copy.deepcopy(turno3[i])\n",
    "            turno4.append(accion(j))"
   ]
  },
  {
   "cell_type": "code",
   "execution_count": 13,
   "id": "61f629a4",
   "metadata": {},
   "outputs": [
    {
     "data": {
      "text/plain": [
       "[[0, 0, 0, 0, 0, 0, 0],\n",
       " [0, 0, 0, 0, 0, 0, 0],\n",
       " [2, 0, 0, 0, 0, 0, 0],\n",
       " [1, 0, 0, 0, 0, 0, 0],\n",
       " [2, 0, 0, 0, 0, 0, 0],\n",
       " [1, 0, 0, 0, 0, 0, 0]]"
      ]
     },
     "execution_count": 13,
     "metadata": {},
     "output_type": "execute_result"
    }
   ],
   "source": [
    "turno4[0].get_board()"
   ]
  }
 ],
 "metadata": {
  "kernelspec": {
   "display_name": "Python 3 (ipykernel)",
   "language": "python",
   "name": "python3"
  },
  "language_info": {
   "codemirror_mode": {
    "name": "ipython",
    "version": 3
   },
   "file_extension": ".py",
   "mimetype": "text/x-python",
   "name": "python",
   "nbconvert_exporter": "python",
   "pygments_lexer": "ipython3",
   "version": "3.9.13"
  }
 },
 "nbformat": 4,
 "nbformat_minor": 5
}
