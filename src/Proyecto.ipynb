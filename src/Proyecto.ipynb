{
  "cells": [
    {
      "cell_type": "markdown",
      "metadata": {
        "colab_type": "text",
        "id": "view-in-github"
      },
      "source": [
        "<a href=\"https://colab.research.google.com/github/rubenAcostaArzate/generacion-2020/blob/master/Proyecto.ipynb\" target=\"_parent\"><img src=\"https://colab.research.google.com/assets/colab-badge.svg\" alt=\"Open In Colab\"/></a>"
      ]
    },
    {
      "cell_type": "markdown",
      "metadata": {
        "id": "4OE1jiuQylsG"
      },
      "source": [
        "# **Proyecto CONECTA4**\n",
        "\n",
        "\n",
        "\n"
      ]
    },
    {
      "cell_type": "markdown",
      "metadata": {
        "id": "V0KxN4AlzFRc"
      },
      "source": [
        "# **Integrantes:**\n",
        "\n",
        " - Ruben Acosta Arzate \n",
        " - Jesus Israel Gutierrez Elizalde\n",
        " - Erick Martinez Piza \n",
        " - Angel Mauricio Lopez Miranda \n",
        " - Jhony Brandon Lazcano Lagos \n",
        "\n"
      ]
    },
    {
      "cell_type": "markdown",
      "metadata": {
        "id": "iFLNyCc202M5"
      },
      "source": [
        "# **Descripcion:**\n",
        "\n",
        "Nuestro proyecto consiste en hacer una IA que pueda jugar conecta 4 y escoja la mejor opcion posible mediante un algoritmo de busqueda."
      ]
    },
    {
      "attachments": {},
      "cell_type": "markdown",
      "metadata": {
        "id": "XB5x4j2o134A"
      },
      "source": [
        "Primero empezamos modelando la clase connect4, decidimos que esta tendria una booleano new game y un tablero que seria simulado con un arreglo"
      ]
    },
    {
      "attachments": {},
      "cell_type": "markdown",
      "metadata": {},
      "source": [
        "En cuanto al constructor decidimos que seria un tablero 7 x 6 domde tendriamos 7 columnas de 0 hasta 6 y 6 renglones\n",
        "Ademas tenemos un atributo winner para cuando el juego termine ver que jugador o si hubo un empate"
      ]
    },
    {
      "cell_type": "code",
      "execution_count": null,
      "metadata": {
        "id": "aV7FHE0px0lU"
      },
      "outputs": [],
      "source": [
        "import copy\n",
        "class connect4:\n",
        "    \"\"\"Class to model a connect4 board.\"\"\"\n",
        "\n",
        "    def __init__(self, new_game: bool = True, game_board: list = []):\n",
        "        \"\"\"Constructor of the connect4.\"\"\"\n",
        "        assert type(game_board) == list\n",
        "        self.winner = 0\n",
        "        self.__board = []\n",
        "        if not new_game:\n",
        "            assert len(game_board) == 6\n",
        "            for row in game_board:\n",
        "                assert len(row) == 7\n",
        "                for cell in row:\n",
        "                    assert type(cell) == int and cell > -1 and cell < 3\n",
        "            self.__board = game_board\n",
        "            return\n",
        "        for i in range(6):\n",
        "            self.__board.append([0, 0, 0, 0, 0, 0, 0])"
      ]
    },
    {
      "attachments": {},
      "cell_type": "markdown",
      "metadata": {},
      "source": [
        "Forma en la que imprimimos el tablero"
      ]
    },
    {
      "cell_type": "code",
      "execution_count": null,
      "metadata": {},
      "outputs": [],
      "source": [
        "def __str__(self) -> str:\n",
        "        \"\"\"str function of a connect4.\"\"\"\n",
        "        string = \"\"\n",
        "        n = 0\n",
        "        string += \"    0 1 2 3 4 5 6\\n\"\n",
        "        string += \"    _____________\\n\"\n",
        "        for row in self.__board:\n",
        "            string += str(n) + \" | \"\n",
        "            n += 1\n",
        "            for cell in row:\n",
        "                string += str(cell) + \" \"\n",
        "            string += \"\\n\"\n",
        "        return string"
      ]
    },
    {
      "attachments": {},
      "cell_type": "markdown",
      "metadata": {},
      "source": [
        "Metodo con el que vemos si 2 tableros son iguales esto nos ayudara cuando expandamos un nodo para evitar repetidos"
      ]
    },
    {
      "cell_type": "code",
      "execution_count": null,
      "metadata": {},
      "outputs": [],
      "source": [
        "def __eq__(self, connect4) -> bool:\n",
        "        \"\"\"Equals function to compare two connect4.\"\"\"\n",
        "        if type(self) != type(connect4):\n",
        "            return False\n",
        "        if self.winner != connect4.winner:\n",
        "            return False\n",
        "        for i in range(6):\n",
        "            for j in range(7):\n",
        "                if self.__board[i][j] != connect4.__board[i][j]:\n",
        "                    return False\n",
        "        return True"
      ]
    },
    {
      "attachments": {},
      "cell_type": "markdown",
      "metadata": {},
      "source": [
        "Metodo que nos permite hacer una copia del tablero esto nos ayudara cuando queramos tener rastros del padre y de sus posibles jugadas a la hora de expandir el arbol "
      ]
    },
    {
      "cell_type": "code",
      "execution_count": null,
      "metadata": {},
      "outputs": [],
      "source": [
        "def get_board(self) -> list:\n",
        "        \"\"\"Returns a copy of the board\"\"\"\n",
        "        return copy.deepcopy(self.__board)"
      ]
    },
    {
      "attachments": {},
      "cell_type": "markdown",
      "metadata": {},
      "source": [
        "Ya empezando con los metodos mas importantes tenemos make_play, como el nombre lo dice este hace una jugada, el metodo recibe un booleano y un numero, debido a que el juego es de 2 jugadores y por turnos, el booleano representa a que jugador le toca turno, donde si es True es el turno del judador 1 y si es False es turno del jugador 2, y el numero es para saber en que columna se decidira jugar, este metodo lo usaremos principalmente para obtener todas las opciones posibles al realizar el arbol de busqueda"
      ]
    },
    {
      "cell_type": "code",
      "execution_count": null,
      "metadata": {},
      "outputs": [],
      "source": [
        "def make_play(self, player_one: bool, column: int) -> bool:\n",
        "        \"\"\"Function to make a play on the board.\n",
        "        Returns True if the play could not be made.\"\"\"\n",
        "        if type(player_one) != bool or type(column) != int:\n",
        "            raise Exception(\"Wrong argument.\")\n",
        "        if 0 > column or column > 6:\n",
        "            raise Exception(\"Wrong column.\")\n",
        "        row = 5\n",
        "        while self.__board[row][column] != 0:\n",
        "            row -= 1\n",
        "            if row < 0:\n",
        "                return True\n",
        "        if player_one:\n",
        "            self.__board[row][column] = 1\n",
        "        else:\n",
        "            self.__board[row][column] = 2\n",
        "        return False"
      ]
    },
    {
      "attachments": {},
      "cell_type": "markdown",
      "metadata": {},
      "source": [
        "EL siguiente metodo importante es check_contigous como su nombre lo dice revisa si en el tablero hay numeros iguales continuos, esto nos sirve ya que eso nos ayudara para saber cuando un jugador ya gano o esta cerca de ganar, el metodo nos devuelve una tupla de el numero que queremos ver si hay contiguos y el numero de veces que este esta contiguo "
      ]
    },
    {
      "cell_type": "code",
      "execution_count": null,
      "metadata": {},
      "outputs": [],
      "source": [
        "def __check_contiguous(self, row, column, current, contiguous) -> tuple:\n",
        "        \"\"\"Auxiliary function to check winning plays.\"\"\"\n",
        "        cell = self.__board[row][column]\n",
        "        if cell == 0:\n",
        "            return (0, 0)\n",
        "        if cell != current:\n",
        "            return (cell, 1)\n",
        "        return (current, contiguous + 1)"
      ]
    },
    {
      "attachments": {},
      "cell_type": "markdown",
      "metadata": {},
      "source": [
        "Tenemos la funcion possible_plays esta como su nombre lo indica nos devuelve en un arreglo las posibles jugadas que tiene un tablero para ejecutar"
      ]
    },
    {
      "cell_type": "code",
      "execution_count": null,
      "metadata": {},
      "outputs": [],
      "source": [
        "def possible_plays(self) -> list:\n",
        "        \"\"\"Function to get all possible plays.\"\"\"\n",
        "        plays = []\n",
        "        count = 0\n",
        "        for cell in self.__board[0]:\n",
        "            if cell == 0:\n",
        "                plays.append(count)\n",
        "            count += 1\n",
        "        return plays"
      ]
    },
    {
      "attachments": {},
      "cell_type": "markdown",
      "metadata": {},
      "source": [
        "Como ultimo tenemos a al funcion finished, al igual com el anterior como su nombre lo dice, esta nos ayuda a determinar cuando en un tablero ya hay un ganador o si y lo hay lo regresa, y si el juego termina pero no hay ganador este regresa 0\n",
        "\n",
        "EL metodo utiliza la funcion check_contiguos para saber cuantos contiguos hay pues si hay minimo 4 quiere decir que ya hay un ganador y por como funciona el juego tenemos que ver todas las posibles formas en las que puede alguien ganar\n",
        "\n",
        "CHeca si hay victoria horizontal "
      ]
    },
    {
      "cell_type": "code",
      "execution_count": null,
      "metadata": {},
      "outputs": [],
      "source": [
        "def finished(self) -> int:\n",
        "        \"\"\"Checks the board for a winner. If there is a winnner, \n",
        "        returns the player number of the winner, otherwise returns 0.\"\"\"\n",
        "        (current, contiguous) = (0, 0)\n",
        "        # check for win by a horizontal play\n",
        "        for row in range(6):\n",
        "            (current, contiguous) = (0, 0)\n",
        "            for column in range(7):\n",
        "                (current, contiguous) = self.__check_contiguous(\n",
        "                    row, column, current, contiguous)\n",
        "                if contiguous == 4:\n",
        "                    self.winner = current\n",
        "                    return current"
      ]
    },
    {
      "attachments": {},
      "cell_type": "markdown",
      "metadata": {},
      "source": [
        "CHeca si hay victoria vertical"
      ]
    },
    {
      "cell_type": "code",
      "execution_count": null,
      "metadata": {},
      "outputs": [],
      "source": [
        "for column in range(7):\n",
        "     (current, contiguous) = (0, 0)\n",
        "     for row in range(6):\n",
        "         (current, contiguous) = self.__check_contiguous(\n",
        "          row, column, current, contiguous)\n",
        "         if contiguous == 4:\n",
        "            self.winner = current\n",
        "            return current"
      ]
    },
    {
      "attachments": {},
      "cell_type": "markdown",
      "metadata": {},
      "source": [
        "Checa si hay una victoria diagonal "
      ]
    },
    {
      "cell_type": "code",
      "execution_count": null,
      "metadata": {},
      "outputs": [],
      "source": [
        "l = [(0, 3), (0, 4), (0, 5), (0, 6), (1, 6), (2, 6)]\n",
        "    for i in l:\n",
        "            (row, column) = i\n",
        "            (current, contiguous) = (0, 0)\n",
        "            while row < 6 and column > -1:\n",
        "                (current, contiguous) = self.__check_contiguous(\n",
        "                    row, column, current, contiguous)\n",
        "                if contiguous == 4:\n",
        "                    self.winner = current\n",
        "                    return current\n",
        "                row += 1\n",
        "                column -= 1"
      ]
    },
    {
      "attachments": {},
      "cell_type": "markdown",
      "metadata": {},
      "source": [
        " Checa si hay una victoria por la otra diagonal\n"
      ]
    },
    {
      "cell_type": "code",
      "execution_count": null,
      "metadata": {},
      "outputs": [],
      "source": [
        "# check for win by a diagonal play (/)\n",
        "     l = [(2, 0), (1, 0), (0, 0), (0, 1), (0, 2), (0, 3)]",
        "        for i in l:\n",
        "            (row, column) = i\n",
        "            (current, contiguous) = (0, 0)\n",
        "            while row < 6 and column < 7:\n",
        "                (current, contiguous) = self.__check_contiguous(\n",
        "                    row, column, current, contiguous)\n",
        "                if contiguous == 4:\n",
        "                    self.winner = current\n",
        "                    return current\n",
        "                row += 1\n",
        "                column += 1\n",
        "        return 0"
      ]
    },
    {
      "attachments": {},
      "cell_type": "markdown",
      "metadata": {
        "id": "XB5x4j2o134A"
      },
      "source": [
        "Ahora explicaremos como funciona la clase main"
      ]
    },
    {
      "cell_type": "code",
      "execution_count": null,
      "metadata": {},
      "outputs": [],
      "source": [
        "import Connect4\n",
        "def user_input() -> int:\n",
        "    not_finished = True\n",
        "     while not_finished:\n",
        "      usr_input = input()\n",
        "      usr_int = -1\n",
        "     try:\n",
        "      usr_int = int(usr_input)\n",
        "     except:\n",
        "      print("Must enter a number!!\n\nTry again: ",end="")\n",
        "      continue\n",
        "     if usr_int > 6 or usr_int < 0:\n",
        "      print("Invalid number!!\n\nTry again: ",end="")\n",
        "      continue\n",
        "     not_finished = False\n" 
      ]
    }    
  ],
  "metadata": {
    "colab": {
      "authorship_tag": "ABX9TyND4jBRIHpWFm+zaLlKXTf9",
      "include_colab_link": true,
      "provenance": [],
      "toc_visible": true
    },
    "kernelspec": {
      "display_name": "Python 3",
      "language": "python",
      "name": "python3"
    },
    "language_info": {
      "name": "python",
      "version": "3.10.6 (main, Nov 14 2022, 16:10:14) [GCC 11.3.0]"
    },
    "vscode": {
      "interpreter": {
        "hash": "916dbcbb3f70747c44a77c7bcd40155683ae19c65e1c03b4aa3499c5328201f1"
      }
    }
  },
  "nbformat": 4,
  "nbformat_minor": 0
}
